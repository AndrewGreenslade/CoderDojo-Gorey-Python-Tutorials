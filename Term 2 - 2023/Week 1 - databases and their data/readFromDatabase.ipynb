{
 "cells": [
  {
   "attachments": {},
   "cell_type": "markdown",
   "metadata": {},
   "source": [
    "First we need to install a package to allow us to connect and read databases, I have chosen 'DBcm' as i have used it before,\n",
    "\n",
    "We install this by going windows icon -> cmd - > and typing in this command,\n",
    "\n",
    "##### <span style=\"color:limegreen\">py -m pip install dbcm</span>\n",
    "\n",
    "<i><u> For mac & chromebook we run terminal instead of cmd!</u></i>"
   ]
  },
  {
   "attachments": {
    "image.png": {
     "image/png": "[encoded data removed]"
    }
   },
   "cell_type": "markdown",
   "metadata": {},
   "source": [
    "#\n",
    "#\n",
    "\n",
    "This tutorial is also using 'Maria DB' for its databases you can use any database software but the SQL statement below and how you create a table may change,\n",
    "\n",
    "#\n",
    "\n",
    "Below is how you insert data into a database, with a database user named 'exampleUser' and its password being 'somePassword'\n",
    "\n",
    "#\n",
    "\n",
    "The commands to create the table and user in MariaDB look like this, note their will be two installed applications with Maria DB, \"MYSQL CLIENT\" & \"COMMAND PROMPT (MARIADB)\"  \n",
    "\n",
    "#\n",
    "\n",
    "(NOTE: you need to include the ; at the end of the statements):\n",
    "\n",
    "#\n",
    "\n",
    "***************** IN MYQL CLIENT PROMPT: *****************\n",
    "\n",
    "- create database exampledatabase;\n",
    "- show databases;\n",
    "- grant all on exampledatabase.* to 'exampleUser' identified by 'somePassword';\n",
    "\n",
    "#\n",
    "\n",
    "***************** IN MARIADB COMMAND PROMPT: *****************\n",
    "\n",
    "- mysql -u exampleUser -p exampledatabase\n",
    "- *TYPE IN* somePassword\n",
    "- create table playerInfo ( name varchar(64) not null, age int(3), score int);\n",
    "- show tables;\n",
    "- describe playerInfo;\n",
    "\n",
    "#\n",
    "\n",
    "It should look like this:\n",
    "\n",
    "#\n",
    "\n",
    "![image.png](attachment:image.png)"
   ]
  },
  {
   "cell_type": "code",
   "execution_count": 1,
   "metadata": {},
   "outputs": [],
   "source": [
    "import DBcm"
   ]
  },
  {
   "cell_type": "code",
   "execution_count": 2,
   "metadata": {},
   "outputs": [],
   "source": [
    "Data = []\n",
    "\n",
    "SQL = \"\"\"\n",
    "    insert into playerInfo (name, age, score) values ( %s, %s, %s)\n",
    "\"\"\"\n",
    "\n",
    "config = {\n",
    "    'host': '127.0.0.1',\n",
    "    'database': 'ExampleDatabase',\n",
    "    'user': 'exampleUser',\n",
    "    'password': 'somePassword',\n",
    "}"
   ]
  },
  {
   "attachments": {},
   "cell_type": "markdown",
   "metadata": {},
   "source": [
    "Below is code on how you get/insert data into a database"
   ]
  },
  {
   "cell_type": "code",
   "execution_count": 3,
   "metadata": {},
   "outputs": [],
   "source": [
    "name = \"Andrew\"\n",
    "Age = 23\n",
    "Score = 1000"
   ]
  },
  {
   "cell_type": "code",
   "execution_count": 4,
   "metadata": {},
   "outputs": [],
   "source": [
    "with DBcm.UseDatabase(config) as db:\n",
    "    db.execute(SQL, (name, Age , Score))"
   ]
  },
  {
   "attachments": {},
   "cell_type": "markdown",
   "metadata": {},
   "source": [
    "Below is how you get data from a database, with a database with the same user"
   ]
  },
  {
   "cell_type": "code",
   "execution_count": 5,
   "metadata": {},
   "outputs": [],
   "source": [
    "SQLGETALL = \"\"\"\n",
    "    select * from playerInfo\n",
    "\"\"\""
   ]
  },
  {
   "cell_type": "code",
   "execution_count": 15,
   "metadata": {},
   "outputs": [
    {
     "name": "stdout",
     "output_type": "stream",
     "text": [
      "Name:  Andrew\n",
      "Age:  23\n",
      "Score:  1000\n",
      "\n",
      "\n"
     ]
    }
   ],
   "source": [
    "with DBcm.UseDatabase(config) as db:\n",
    "        db.execute(SQLGETALL)\n",
    "        data = db.fetchall()\n",
    "\n",
    "        #print each row entry as seprate lines\n",
    "        for row in data:\n",
    "                print(\"Name: \", row[0])\n",
    "                print(\"Age: \", row[1])\n",
    "                print(\"Score: \", row[2])\n",
    "                print(\"\\n\")"
   ]
  }
 ],
 "metadata": {
  "kernelspec": {
   "display_name": "Python 3",
   "language": "python",
   "name": "python3"
  },
  "language_info": {
   "codemirror_mode": {
    "name": "ipython",
    "version": 3
   },
   "file_extension": ".py",
   "mimetype": "text/x-python",
   "name": "python",
   "nbconvert_exporter": "python",
   "pygments_lexer": "ipython3",
   "version": "3.9.7"
  },
  "orig_nbformat": 4,
  "vscode": {
   "interpreter": {
    "hash": "c347c8f9a7ef94e4c9e03b4513be7835ed18f45b99a2a817fb579f408b867b16"
   }
  }
 },
 "nbformat": 4,
 "nbformat_minor": 2
}
