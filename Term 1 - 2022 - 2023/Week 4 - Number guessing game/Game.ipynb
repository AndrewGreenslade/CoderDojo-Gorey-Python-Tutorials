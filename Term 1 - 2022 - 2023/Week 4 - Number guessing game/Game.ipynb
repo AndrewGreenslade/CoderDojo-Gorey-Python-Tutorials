{
 "cells": [
  {
   "cell_type": "code",
   "execution_count": 10,
   "metadata": {},
   "outputs": [],
   "source": [
    "guessesList = []\n",
    "answer = 0"
   ]
  },
  {
   "cell_type": "code",
   "execution_count": 11,
   "metadata": {},
   "outputs": [],
   "source": [
    "import random\n",
    "answer = random.randint(1,10)"
   ]
  },
  {
   "cell_type": "code",
   "execution_count": 12,
   "metadata": {},
   "outputs": [
    {
     "name": "stdout",
     "output_type": "stream",
     "text": [
      "It took 5 Seconds to guess\n",
      "Guess is bigger then answer, guess again!\n",
      "It took 9 Seconds to guess\n",
      "Guess correct!\n"
     ]
    }
   ],
   "source": [
    "import datetime\n",
    "import string\n",
    "\n",
    "guessesLimit = 5\n",
    "\n",
    "for i in range(guessesLimit):\n",
    "\n",
    "    timeBeforeGuess = datetime.datetime.now().second\n",
    "    guess = int(input(\"Enter a number from 1 to 10, including both\"))\n",
    "    currentTime = datetime.datetime.now().second\n",
    "\n",
    "    print(\"It took \" + str(currentTime - timeBeforeGuess) + \" Seconds to guess\")\n",
    "\n",
    "    if guess > answer:\n",
    "        print(\"Guess is bigger then answer, guess again!\")\n",
    "    else: \n",
    "        if guess < answer:\n",
    "            print(\"Guess is bigger then answer, guess again!\")\n",
    "        else:\n",
    "            if guess == answer:\n",
    "                print(\"Guess correct!\")\n",
    "                break"
   ]
  }
 ],
 "metadata": {
  "kernelspec": {
   "display_name": "Python 3.10.7 64-bit",
   "language": "python",
   "name": "python3"
  },
  "language_info": {
   "codemirror_mode": {
    "name": "ipython",
    "version": 3
   },
   "file_extension": ".py",
   "mimetype": "text/x-python",
   "name": "python",
   "nbconvert_exporter": "python",
   "pygments_lexer": "ipython3",
   "version": "3.10.7"
  },
  "orig_nbformat": 4,
  "vscode": {
   "interpreter": {
    "hash": "6847c98a8f86b01c6a19c518cd2f366693b80566b266804d5ca763cbb223f52b"
   }
  }
 },
 "nbformat": 4,
 "nbformat_minor": 2
}
