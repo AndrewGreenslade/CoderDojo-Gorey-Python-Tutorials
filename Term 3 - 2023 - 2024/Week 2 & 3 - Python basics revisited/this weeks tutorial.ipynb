{
 "cells": [
  {
   "cell_type": "markdown",
   "metadata": {},
   "source": [
    "# Variables and their types!\n",
    "\n",
    "Numbers:"
   ]
  },
  {
   "cell_type": "code",
   "execution_count": 1,
   "metadata": {},
   "outputs": [
    {
     "name": "stdout",
     "output_type": "stream",
     "text": [
      "15\n",
      "5\n",
      "50\n",
      "2.0\n"
     ]
    }
   ],
   "source": [
    "# how do i create a varible in python?\n",
    "#By giving it a name, and = it to something!!!\n",
    "#example:\n",
    "\n",
    "\n",
    "x = 10 # this is a int, aka a whole number\n",
    "y = 5.25 #this is a float, aka a decimal number\n",
    "\n",
    "#You can also add/subtract/divide/mutiple,etc numbers like this!\n",
    "\n",
    "a = x + y\n",
    "b = x - y\n",
    "c = x * y # mutiplication\n",
    "d = x / y # division\n",
    "\n",
    "print(a)\n",
    "print(b)\n",
    "print(c)\n",
    "print(d)"
   ]
  },
  {
   "cell_type": "markdown",
   "metadata": {},
   "source": [
    "Strings / Text"
   ]
  },
  {
   "cell_type": "code",
   "execution_count": 2,
   "metadata": {},
   "outputs": [
    {
     "name": "stdout",
     "output_type": "stream",
     "text": [
      "Andrew Greenslade\n",
      "<class 'str'>\n",
      "My name is: Andrew Greenslade and I am 24 years old.\n"
     ]
    }
   ],
   "source": [
    "#You can also create a variable that is text, called a string, which is called str in python !\n",
    "#example:\n",
    "\n",
    "name = \"Andrew Greenslade\"\n",
    "\n",
    "print(name)\n",
    "print(type(name))\n",
    "\n",
    "#You can also add two strings to result in a new string!\n",
    "\n",
    "age = \"24\"\n",
    "\n",
    "print(\"My name is: \" + name + \" and I am \" + age + \" years old.\")"
   ]
  },
  {
   "cell_type": "markdown",
   "metadata": {},
   "source": [
    "Boolean / bools"
   ]
  },
  {
   "cell_type": "code",
   "execution_count": 4,
   "metadata": {},
   "outputs": [
    {
     "name": "stdout",
     "output_type": "stream",
     "text": [
      "Lights are on\n"
     ]
    }
   ],
   "source": [
    "#Booleans / bools are used to determine if a value is true or false.\n",
    "#example\n",
    "\n",
    "lightsOn = True\n",
    "windowOpen = False\n",
    "\n",
    "#exampel uses of bools\n",
    "\n",
    "if lightsOn:\n",
    "    print(\"Lights are on\")\n",
    "\n",
    "\n",
    "if windowOpen:\n",
    "    print(\"Window is open\")"
   ]
  },
  {
   "cell_type": "markdown",
   "metadata": {},
   "source": [
    "Lists and their different types"
   ]
  },
  {
   "cell_type": "code",
   "execution_count": 11,
   "metadata": {},
   "outputs": [
    {
     "name": "stdout",
     "output_type": "stream",
     "text": [
      "[1, 2, 3, 4, 5, 6, 7, 8, 9, 10]\n",
      "[1, 2, 3, 4, 5, 6, 7, 8, 9, 10, 11]\n",
      "[12, 1, 2, 3, 4, 5, 6, 7, 8, 9, 10, 11]\n",
      "<class 'list'>\n",
      "(1, 2, 3, 4, 5, 6, 7, 8, 9, 10)\n",
      "<class 'tuple'>\n",
      "{'banana', 'cherry', 'apple'}\n",
      "<class 'set'>\n",
      "{   'brand': 'Ford',\n",
      "    'colors': ['red', 'white', 'blue'],\n",
      "    'model': 'Mustang',\n",
      "    'year': 1964}\n",
      "Ford\n",
      "1964\n",
      "<class 'dict'>\n"
     ]
    }
   ],
   "source": [
    "#Lists, there are different types of lists, List, Tuple, set, Dictionary.\n",
    "\n",
    "# a list is a collection of elements/variables, like strings, numbers, booleans, etc. and is represented by using [] brackets.\n",
    "# a list can also be edited in realtime via functions like .pop(),.append(),.insert(),.remove(),.clear(),.sort(),.reverse(), etc.\n",
    "\n",
    "\n",
    "list1 = [1,2,3,4,5,6,7,8,9,10]\n",
    "print(list1)\n",
    "\n",
    "\n",
    "list1.append(11)\n",
    "print(list1)\n",
    "\n",
    "list1.insert(0,12)\n",
    "print(list1)\n",
    "\n",
    "print(type(list1))\n",
    "\n",
    "# a list is a collection of elements/variables, like strings, numbers, booleans, etc. and is represented by using () brackets.\n",
    "# a list cant be edited in realtime, so once its created it stays there unless its overwritten!\n",
    "\n",
    "tuple1 = (1,2,3,4,5,6,7,8,9,10)\n",
    "\n",
    "print(tuple1)\n",
    "\n",
    "print(type(tuple1))\n",
    "\n",
    "#sets are are unchangeable like tuples, but do not allow duplicate values.\n",
    "\n",
    "thisset = {\"apple\", \"banana\", \"cherry\"}\n",
    "\n",
    "print(thisset)\n",
    "\n",
    "print(type(thisset))\n",
    "\n",
    "\n",
    "#Dictionaries are used to store data values in key:value pairs. the value can also be anmy of the other  types of list as well as another dictionary!\n",
    "\n",
    "thisdict = {\n",
    "  \"brand\": \"Ford\",\n",
    "  \"model\": \"Mustang\",\n",
    "  \"year\": 1964,\n",
    "  \"colors\": [\"red\", \"white\", \"blue\"]\n",
    "}\n",
    "\n",
    "#using pprint to print the dictionary in a better format, so its easier to see what's in it.\n",
    "import pprint\n",
    "pp = pprint.PrettyPrinter(indent=4)\n",
    "\n",
    "pp.pprint(thisdict)\n",
    "\n",
    "print(thisdict[\"brand\"])\n",
    "\n",
    "print(thisdict[\"year\"])\n",
    "\n",
    "print(type(thisdict))"
   ]
  }
 ],
 "metadata": {
  "kernelspec": {
   "display_name": "Python 3",
   "language": "python",
   "name": "python3"
  },
  "language_info": {
   "codemirror_mode": {
    "name": "ipython",
    "version": 3
   },
   "file_extension": ".py",
   "mimetype": "text/x-python",
   "name": "python",
   "nbconvert_exporter": "python",
   "pygments_lexer": "ipython3",
   "version": "3.11.6"
  }
 },
 "nbformat": 4,
 "nbformat_minor": 2
}
