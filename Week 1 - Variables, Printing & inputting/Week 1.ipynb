{
 "cells": [
  {
   "cell_type": "markdown",
   "metadata": {},
   "source": [
    "This is how we define a variable of type string in python,\n",
    "\n",
    "A variable is a object to hold many diffrent types of data including :\n",
    "- intigers (whole numbers (1)),\n",
    "- floats (decimal numbers(1.2345)),\n",
    "- strings (alpha numberic text (\"my name is .... !!\")),\n",
    "- etc.\n",
    "\n",
    "\"firstName\" is the variables name in Python,\n",
    "\n",
    "\"Andrew\" is the assignmed text to the variable."
   ]
  },
  {
   "cell_type": "code",
   "execution_count": null,
   "metadata": {},
   "outputs": [],
   "source": [
    "firstName = \"Andrew\""
   ]
  },
  {
   "cell_type": "markdown",
   "metadata": {},
   "source": [
    "This is how we display my first name , \"Andrew\" to the user using a function,\n",
    "\n",
    "A fucntion is just a piece of code broken down into a re-usable state, you can also pass information through to a function like below\n",
    "\n",
    "You call a function by writing the name of the function and adding a pair of brackets, and if a variable is needed it goes inbetween the brackets:\n",
    "   \n",
    "- myFunction + () = myFunction()\n",
    "\n",
    "another example:\n",
    "\n",
    "- print + ( + \"some value/variable\" + ) "
   ]
  },
  {
   "cell_type": "code",
   "execution_count": null,
   "metadata": {},
   "outputs": [],
   "source": [
    "print(firstName)"
   ]
  },
  {
   "cell_type": "markdown",
   "metadata": {},
   "source": [
    "Here i save my last name into a variable and print first name , followed by a space then last name together by adding/concatenating all three strings."
   ]
  },
  {
   "cell_type": "code",
   "execution_count": null,
   "metadata": {},
   "outputs": [],
   "source": [
    "lastName = \"Greenslade\"\n",
    "\n",
    "print(firstName + \" \" + lastName)"
   ]
  },
  {
   "cell_type": "markdown",
   "metadata": {},
   "source": [
    "Here i ask for my age using the input() function and display is as an intiger/whole value, notice if you input a non intiger value, you get a Value Error,\n",
    "\n",
    "this is because the two types (the value entered and the required intiger) dont match"
   ]
  },
  {
   "cell_type": "code",
   "execution_count": null,
   "metadata": {},
   "outputs": [],
   "source": [
    "age = int(input(\"Enter your age\"))\n",
    "\n",
    "print(age)"
   ]
  }
 ],
 "metadata": {
  "kernelspec": {
   "display_name": "Python 3.10.7 64-bit",
   "language": "python",
   "name": "python3"
  },
  "language_info": {
   "codemirror_mode": {
    "name": "ipython",
    "version": 3
   },
   "file_extension": ".py",
   "mimetype": "text/x-python",
   "name": "python",
   "nbconvert_exporter": "python",
   "pygments_lexer": "ipython3",
   "version": "3.10.7"
  },
  "orig_nbformat": 4,
  "vscode": {
   "interpreter": {
    "hash": "369f2c481f4da34e4445cda3fffd2e751bd1c4d706f27375911949ba6bb62e1c"
   }
  }
 },
 "nbformat": 4,
 "nbformat_minor": 2
}
